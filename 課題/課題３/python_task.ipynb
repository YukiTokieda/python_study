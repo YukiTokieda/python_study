{
 "cells": [
  {
   "cell_type": "code",
   "execution_count": 1,
   "metadata": {},
   "outputs": [],
   "source": [
    "import pandas as pd\n",
    "import numpy as np\n",
    "from typing import List\n",
    "import datetime as dt\n",
    "from sklearn import linear_model"
   ]
  },
  {
   "cell_type": "code",
   "execution_count": 2,
   "metadata": {},
   "outputs": [
    {
     "data": {
      "text/html": [
       "<div>\n",
       "<style scoped>\n",
       "    .dataframe tbody tr th:only-of-type {\n",
       "        vertical-align: middle;\n",
       "    }\n",
       "\n",
       "    .dataframe tbody tr th {\n",
       "        vertical-align: top;\n",
       "    }\n",
       "\n",
       "    .dataframe thead th {\n",
       "        text-align: right;\n",
       "    }\n",
       "</style>\n",
       "<table border=\"1\" class=\"dataframe\">\n",
       "  <thead>\n",
       "    <tr style=\"text-align: right;\">\n",
       "      <th></th>\n",
       "      <th>Group</th>\n",
       "      <th>Region</th>\n",
       "      <th>Date</th>\n",
       "      <th>Var 1</th>\n",
       "      <th>Var 2</th>\n",
       "    </tr>\n",
       "  </thead>\n",
       "  <tbody>\n",
       "    <tr>\n",
       "      <th>0</th>\n",
       "      <td>A</td>\n",
       "      <td>X</td>\n",
       "      <td>2021-01-03</td>\n",
       "      <td>631.563761</td>\n",
       "      <td>155.108402</td>\n",
       "    </tr>\n",
       "    <tr>\n",
       "      <th>1</th>\n",
       "      <td>A</td>\n",
       "      <td>X</td>\n",
       "      <td>2021-01-10</td>\n",
       "      <td>540.514665</td>\n",
       "      <td>541.329056</td>\n",
       "    </tr>\n",
       "    <tr>\n",
       "      <th>2</th>\n",
       "      <td>A</td>\n",
       "      <td>X</td>\n",
       "      <td>2021-01-17</td>\n",
       "      <td>176.624266</td>\n",
       "      <td>462.113723</td>\n",
       "    </tr>\n",
       "    <tr>\n",
       "      <th>3</th>\n",
       "      <td>A</td>\n",
       "      <td>X</td>\n",
       "      <td>2021-01-24</td>\n",
       "      <td>647.664617</td>\n",
       "      <td>720.148593</td>\n",
       "    </tr>\n",
       "    <tr>\n",
       "      <th>4</th>\n",
       "      <td>A</td>\n",
       "      <td>X</td>\n",
       "      <td>2021-01-31</td>\n",
       "      <td>75.576017</td>\n",
       "      <td>328.935593</td>\n",
       "    </tr>\n",
       "  </tbody>\n",
       "</table>\n",
       "</div>"
      ],
      "text/plain": [
       "  Group Region       Date       Var 1       Var 2\n",
       "0     A      X 2021-01-03  631.563761  155.108402\n",
       "1     A      X 2021-01-10  540.514665  541.329056\n",
       "2     A      X 2021-01-17  176.624266  462.113723\n",
       "3     A      X 2021-01-24  647.664617  720.148593\n",
       "4     A      X 2021-01-31   75.576017  328.935593"
      ]
     },
     "execution_count": 2,
     "metadata": {},
     "output_type": "execute_result"
    }
   ],
   "source": [
    "dummy_data = pd.DataFrame({'Group': ['A'] * 50 + ['B'] * 50,\n",
    "                                                       'Region': ['X'] * 50 + ['Y'] * 50,\n",
    "                                                        'Date': pd.date_range('2021-01-01',periods=100, freq='w'),\n",
    "                                                        'Var 1': 1000 * np.random.rand(100),\n",
    "                                                        'Var 2': 1000 * np.random.rand(100)})\n",
    "dummy_data.head()"
   ]
  },
  {
   "cell_type": "code",
   "execution_count": 3,
   "metadata": {},
   "outputs": [],
   "source": [
    "# 課題3-1 以下のようなpandas DataFrame “dummy_data”が入力 0として与えられた時、\n",
    "# ● 入力 1 ”Group”, または“Region”もしくはその両方\n",
    "# ● 入力 2 週、月、年\n",
    "# を元に”Var 1”, “Var 2”の合計値を計算するPythonの関数“group_func”を書いてください。（例外の処理も含む）"
   ]
  },
  {
   "cell_type": "code",
   "execution_count": 4,
   "metadata": {},
   "outputs": [
    {
     "data": {
      "text/html": [
       "<div>\n",
       "<style scoped>\n",
       "    .dataframe tbody tr th:only-of-type {\n",
       "        vertical-align: middle;\n",
       "    }\n",
       "\n",
       "    .dataframe tbody tr th {\n",
       "        vertical-align: top;\n",
       "    }\n",
       "\n",
       "    .dataframe thead th {\n",
       "        text-align: right;\n",
       "    }\n",
       "</style>\n",
       "<table border=\"1\" class=\"dataframe\">\n",
       "  <thead>\n",
       "    <tr style=\"text-align: right;\">\n",
       "      <th></th>\n",
       "      <th>Date</th>\n",
       "      <th>Var 1</th>\n",
       "      <th>Var 2</th>\n",
       "      <th>Group_A</th>\n",
       "      <th>Region_X</th>\n",
       "      <th>sum_var</th>\n",
       "    </tr>\n",
       "  </thead>\n",
       "  <tbody>\n",
       "    <tr>\n",
       "      <th>0</th>\n",
       "      <td>737793</td>\n",
       "      <td>631.563761</td>\n",
       "      <td>155.108402</td>\n",
       "      <td>1</td>\n",
       "      <td>1</td>\n",
       "      <td>786.672163</td>\n",
       "    </tr>\n",
       "    <tr>\n",
       "      <th>1</th>\n",
       "      <td>737800</td>\n",
       "      <td>540.514665</td>\n",
       "      <td>541.329056</td>\n",
       "      <td>1</td>\n",
       "      <td>1</td>\n",
       "      <td>1081.843721</td>\n",
       "    </tr>\n",
       "    <tr>\n",
       "      <th>2</th>\n",
       "      <td>737807</td>\n",
       "      <td>176.624266</td>\n",
       "      <td>462.113723</td>\n",
       "      <td>1</td>\n",
       "      <td>1</td>\n",
       "      <td>638.737989</td>\n",
       "    </tr>\n",
       "    <tr>\n",
       "      <th>3</th>\n",
       "      <td>737814</td>\n",
       "      <td>647.664617</td>\n",
       "      <td>720.148593</td>\n",
       "      <td>1</td>\n",
       "      <td>1</td>\n",
       "      <td>1367.813211</td>\n",
       "    </tr>\n",
       "    <tr>\n",
       "      <th>4</th>\n",
       "      <td>737821</td>\n",
       "      <td>75.576017</td>\n",
       "      <td>328.935593</td>\n",
       "      <td>1</td>\n",
       "      <td>1</td>\n",
       "      <td>404.511610</td>\n",
       "    </tr>\n",
       "  </tbody>\n",
       "</table>\n",
       "</div>"
      ],
      "text/plain": [
       "     Date       Var 1       Var 2  Group_A  Region_X      sum_var\n",
       "0  737793  631.563761  155.108402        1         1   786.672163\n",
       "1  737800  540.514665  541.329056        1         1  1081.843721\n",
       "2  737807  176.624266  462.113723        1         1   638.737989\n",
       "3  737814  647.664617  720.148593        1         1  1367.813211\n",
       "4  737821   75.576017  328.935593        1         1   404.511610"
      ]
     },
     "execution_count": 4,
     "metadata": {},
     "output_type": "execute_result"
    }
   ],
   "source": [
    "# 前処理\n",
    "data = pd.get_dummies( dummy_data)\n",
    "data = data.drop(['Group_B','Region_Y'], axis=1)\n",
    "data['sum_var'] = data['Var 1'] + data['Var 2']\n",
    "\n",
    "data['Date'] = pd.to_datetime(data['Date'])\n",
    "data['Date']=data['Date'].map(dt.datetime.toordinal)\n",
    "\n",
    "data.head()"
   ]
  },
  {
   "cell_type": "code",
   "execution_count": 5,
   "metadata": {},
   "outputs": [
    {
     "data": {
      "text/plain": [
       "LinearRegression(copy_X=True, fit_intercept=True, n_jobs=1, normalize=False)"
      ]
     },
     "execution_count": 5,
     "metadata": {},
     "output_type": "execute_result"
    }
   ],
   "source": [
    "# 重回帰分析モデル\n",
    "reg1 = linear_model.LinearRegression()\n",
    "reg2 = linear_model.LinearRegression()\n",
    "reg3 = linear_model.LinearRegression()\n",
    "\n",
    "# 説明変数\n",
    "X1 = data[['Group_A','Date']]\n",
    "X2 = data[['Region_X','Date']]\n",
    "X3 = data[['Group_A','Region_X','Date']]\n",
    "\n",
    "# 目的変数を定義する\n",
    "Y = data[['sum_var']]\n",
    "\n",
    "#  モデル作成\n",
    "reg1.fit(X1,Y)\n",
    "reg2.fit(X2,Y)\n",
    "reg3.fit(X3,Y)    "
   ]
  },
  {
   "cell_type": "code",
   "execution_count": 11,
   "metadata": {},
   "outputs": [],
   "source": [
    "df = dummy_data\n",
    "group = ['Group'] # other possible options: ['Group', 'Region'], ['Region']\n",
    "date_aggregation = 'Week' # other possible options: \"Month\", \"Year\"\n",
    "\n",
    "def group_func(df, group: List, date_aggregation: str)-> pd.DataFrame:\n",
    "    \n",
    "    #  入力２：日付\n",
    "    if len(date_aggregation) == 10 :\n",
    "        date = dt.datetime.strptime(date_aggregation, '%Y-%m-%d')\n",
    "    elif len(date_aggregation) == 7:\n",
    "        date = dt.datetime.strptime(date_aggregation, '%Y-%m')\n",
    "    elif len(date_aggregation) == 4:\n",
    "        date = dt.datetime.strptime(date_aggregation, '%Y')\n",
    "    else:\n",
    "         return print('エラー：日付の入力が間違っています')\n",
    "    date = dt.datetime.toordinal(date)\n",
    "\n",
    "# 入力１： ”Group”, または“Region”もしくはその両方\n",
    "    # 入力１： ”Group”, または“Region”もしくはその両方\n",
    "    group_list = ['A','B','X','Y']\n",
    "\n",
    "    if len(group)==0:\n",
    "          return print('Group または Regionの入力がありません')\n",
    "    elif not set(group).issubset(group_list) or len(group)==3:\n",
    "          return print('Group または Regionの入力が間違っています')\n",
    "    else:\n",
    "        if 'A' in group and 'B' in group:\n",
    "            return print('GroupはA,Bどちらかで入力して下さい')\n",
    "        elif 'A' in group:\n",
    "            Group = 1\n",
    "        elif 'B' in group:\n",
    "            Group = 0\n",
    "        else:\n",
    "            Group = None\n",
    "\n",
    "        if 'X' in group and 'Y' in group:\n",
    "            return print('RegionのX,Yどちらかで入力して下さい')\n",
    "        elif 'X' in group:\n",
    "            Region = 1\n",
    "        elif 'Y' in group:\n",
    "            Region = 0\n",
    "        else:\n",
    "            Region = None\n",
    "            \n",
    "# モデルの適応\n",
    "    if Group is not None and Region  is not None:\n",
    "        print('モデル3')\n",
    "        result =  reg３.predict([[Group,Region,date]])\n",
    "    elif Group is not None:\n",
    "        print('モデル1')\n",
    "        result =  reg1.predict([[Group,date]])\n",
    "    elif Region  is not None :\n",
    "        print('モデル2')\n",
    "        result =  reg2.predict([[Region,date]])\n",
    "    else:\n",
    "        print('エラー')\n",
    "\n",
    "    result = result[0][0]\n",
    "    result= '予測したVar 1, Var 2の合計値は:' + str(result)\n",
    "    \n",
    "    return result"
   ]
  },
  {
   "cell_type": "code",
   "execution_count": 13,
   "metadata": {},
   "outputs": [
    {
     "name": "stdout",
     "output_type": "stream",
     "text": [
      "モデル1\n"
     ]
    },
    {
     "data": {
      "text/plain": [
       "'予測したVar 1, Var 2の合計値は:967.9928425980179'"
      ]
     },
     "execution_count": 13,
     "metadata": {},
     "output_type": "execute_result"
    }
   ],
   "source": [
    "group_func(df, ['A'],'2021')"
   ]
  },
  {
   "cell_type": "code",
   "execution_count": 14,
   "metadata": {},
   "outputs": [
    {
     "name": "stdout",
     "output_type": "stream",
     "text": [
      "モデル3\n"
     ]
    },
    {
     "data": {
      "text/plain": [
       "'予測したVar 1, Var 2の合計値は:967.9928425980179'"
      ]
     },
     "execution_count": 14,
     "metadata": {},
     "output_type": "execute_result"
    }
   ],
   "source": [
    "group_func(df, ['A','X'],'2021')"
   ]
  },
  {
   "cell_type": "code",
   "execution_count": 15,
   "metadata": {},
   "outputs": [
    {
     "name": "stdout",
     "output_type": "stream",
     "text": [
      "モデル3\n"
     ]
    },
    {
     "data": {
      "text/plain": [
       "'予測したVar 1, Var 2の合計値は:1015.7738758339983'"
      ]
     },
     "execution_count": 15,
     "metadata": {},
     "output_type": "execute_result"
    }
   ],
   "source": [
    "group_func(df, ['A','Y'],'2021')"
   ]
  },
  {
   "cell_type": "code",
   "execution_count": 16,
   "metadata": {},
   "outputs": [
    {
     "name": "stdout",
     "output_type": "stream",
     "text": [
      "Group または Regionの入力がありません\n"
     ]
    }
   ],
   "source": [
    "group_func(df, [],'2021')"
   ]
  },
  {
   "cell_type": "code",
   "execution_count": 17,
   "metadata": {},
   "outputs": [
    {
     "name": "stdout",
     "output_type": "stream",
     "text": [
      "Group または Regionの入力が間違っています\n"
     ]
    }
   ],
   "source": [
    "group_func(df, ['C'],'2021')"
   ]
  },
  {
   "cell_type": "code",
   "execution_count": 18,
   "metadata": {},
   "outputs": [
    {
     "name": "stdout",
     "output_type": "stream",
     "text": [
      "RegionのX,Yどちらかで入力して下さい\n"
     ]
    }
   ],
   "source": [
    "group_func(df, ['X','Y'],'2021')"
   ]
  },
  {
   "cell_type": "code",
   "execution_count": 8,
   "metadata": {},
   "outputs": [],
   "source": [
    "# 課題3-2 3-1で作った関数group_funcのunit testを正常・例外のテストケースを1つずつ\n",
    "# 実装してください"
   ]
  },
  {
   "cell_type": "code",
   "execution_count": null,
   "metadata": {},
   "outputs": [],
   "source": []
  }
 ],
 "metadata": {
  "kernelspec": {
   "display_name": "Python 3",
   "language": "python",
   "name": "python3"
  },
  "language_info": {
   "codemirror_mode": {
    "name": "ipython",
    "version": 3
   },
   "file_extension": ".py",
   "mimetype": "text/x-python",
   "name": "python",
   "nbconvert_exporter": "python",
   "pygments_lexer": "ipython3",
   "version": "3.7.4"
  }
 },
 "nbformat": 4,
 "nbformat_minor": 2
}
