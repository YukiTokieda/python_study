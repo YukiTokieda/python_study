{
 "cells": [
  {
   "cell_type": "code",
   "execution_count": 45,
   "metadata": {},
   "outputs": [],
   "source": [
    "%matplotlib inline\n",
    "import matplotlib.pyplot as plt\n",
    "import random\n",
    "import math\n",
    "from fractions import Fraction"
   ]
  },
  {
   "cell_type": "code",
   "execution_count": 28,
   "metadata": {},
   "outputs": [
    {
     "name": "stdout",
     "output_type": "stream",
     "text": [
      "0.1666733\n"
     ]
    }
   ],
   "source": [
    "# サイコロで１が出る確率\n",
    "\n",
    "# 試行回数　\n",
    "trials = 10000000\n",
    "\n",
    "# サイコロを振る\n",
    "cnt = 0\n",
    "for i in range(trials):\n",
    "    dice = random.randint(1,6)\n",
    "    if dice == 1:\n",
    "        cnt  +=1\n",
    "        \n",
    "# 確率を求める\n",
    "p = cnt /trials\n",
    "print(p)"
   ]
  },
  {
   "cell_type": "code",
   "execution_count": 29,
   "metadata": {},
   "outputs": [
    {
     "name": "stdout",
     "output_type": "stream",
     "text": [
      "1 16673 16.673\n",
      "2 16803 16.803\n",
      "3 16652 16.652\n",
      "4 16682 16.682\n",
      "5 16481 16.481\n",
      "6 16709 16.709\n",
      "0.9999999999999999\n"
     ]
    }
   ],
   "source": [
    "# 全ての事象が起こる確率\n",
    "\n",
    "# 試行回数　\n",
    "trials = 100000\n",
    "\n",
    "# サイコロを振る\n",
    "hist = [0] * 7\n",
    "\n",
    "for i in range(trials):\n",
    "    dice = random.randint(1,6)\n",
    "    hist[dice] += 1\n",
    "        \n",
    "# 確率を求める\n",
    "p = [0] * 7\n",
    "\n",
    "for i in range(1,7):\n",
    "    p[i] = hist[i] / trials\n",
    "    print(i , hist[i],  hist[i]/trials*100)\n",
    "    \n",
    "print(sum(p))"
   ]
  },
  {
   "cell_type": "code",
   "execution_count": 31,
   "metadata": {},
   "outputs": [
    {
     "data": {
      "text/plain": [
       "Fraction(1, 6)"
      ]
     },
     "execution_count": 31,
     "metadata": {},
     "output_type": "execute_result"
    }
   ],
   "source": [
    "# (分子/分母の分数を指定)\n",
    "Fraction(1,6)"
   ]
  },
  {
   "cell_type": "code",
   "execution_count": 39,
   "metadata": {},
   "outputs": [
    {
     "data": {
      "text/plain": [
       "Fraction(2, 7)"
      ]
     },
     "execution_count": 39,
     "metadata": {},
     "output_type": "execute_result"
    }
   ],
   "source": [
    "x = Fraction(2,7) * Fraction(5,6) * Fraction(1,5)\n",
    "# print(x)\n",
    "y = Fraction(5,7) * Fraction(2,6) * Fraction(1,5)\n",
    "# print(y)\n",
    "z = Fraction(5,7) * Fraction(4,6) * Fraction(2,5)\n",
    "# print(z)\n",
    "p = x + y + z\n",
    "p\n",
    "# print(p)"
   ]
  },
  {
   "cell_type": "code",
   "execution_count": null,
   "metadata": {},
   "outputs": [],
   "source": [
    "# モンテカルロ法\n",
    "cnt = 0\n",
    "for i in range(30000):\n",
    "    x = random.randint(1,100)\n",
    "    y = random.randint(1,100)    \n",
    "    d = math.sqrt((x-50)**2 + (y-50)**2)\n",
    "    if (d <= 50):\n",
    "        cnt += 1\n",
    "        plt.scatter(x, y ,marker='.', c='r')\n",
    "    else:\n",
    "        plt.scatter(x, y ,marker='.', c='b')\n",
    "plt.axis('equal')\n",
    "plt.show()"
   ]
  },
  {
   "cell_type": "code",
   "execution_count": null,
   "metadata": {},
   "outputs": [],
   "source": [
    "# 円周率\n",
    "p = cnt /3000\n",
    "print(p)\n",
    "pi = p *4\n",
    "print(pi)"
   ]
  },
  {
   "cell_type": "code",
   "execution_count": null,
   "metadata": {},
   "outputs": [],
   "source": []
  }
 ],
 "metadata": {
  "kernelspec": {
   "display_name": "Python 3",
   "language": "python",
   "name": "python3"
  },
  "language_info": {
   "codemirror_mode": {
    "name": "ipython",
    "version": 3
   },
   "file_extension": ".py",
   "mimetype": "text/x-python",
   "name": "python",
   "nbconvert_exporter": "python",
   "pygments_lexer": "ipython3",
   "version": "3.7.4"
  }
 },
 "nbformat": 4,
 "nbformat_minor": 2
}
