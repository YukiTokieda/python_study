{
 "cells": [
  {
   "cell_type": "code",
   "execution_count": 1,
   "metadata": {},
   "outputs": [],
   "source": [
    "# 基本モジュール\n",
    "import pandas as pd\n",
    "import numpy as np\n",
    "\n",
    "# 可視化モジュール\n",
    "import seaborn as sns\n",
    "import matplotlib.pyplot as plt\n",
    "%matplotlib inline\n",
    "\n",
    "# 分析モジュール\n",
    "from sklearn import linear_model"
   ]
  },
  {
   "cell_type": "code",
   "execution_count": 2,
   "metadata": {},
   "outputs": [
    {
     "data": {
      "text/html": [
       "<div>\n",
       "<style scoped>\n",
       "    .dataframe tbody tr th:only-of-type {\n",
       "        vertical-align: middle;\n",
       "    }\n",
       "\n",
       "    .dataframe tbody tr th {\n",
       "        vertical-align: top;\n",
       "    }\n",
       "\n",
       "    .dataframe thead th {\n",
       "        text-align: right;\n",
       "    }\n",
       "</style>\n",
       "<table border=\"1\" class=\"dataframe\">\n",
       "  <thead>\n",
       "    <tr style=\"text-align: right;\">\n",
       "      <th></th>\n",
       "      <th>price</th>\n",
       "      <th>tsubo</th>\n",
       "      <th>tsubo_su</th>\n",
       "      <th>kenpei</th>\n",
       "      <th>building</th>\n",
       "      <th>age</th>\n",
       "      <th>birth</th>\n",
       "      <th>area</th>\n",
       "    </tr>\n",
       "  </thead>\n",
       "  <tbody>\n",
       "    <tr>\n",
       "      <th>0</th>\n",
       "      <td>47400000</td>\n",
       "      <td>563000</td>\n",
       "      <td>44.69</td>\n",
       "      <td>0.834</td>\n",
       "      <td>482000</td>\n",
       "      <td>30</td>\n",
       "      <td>1986</td>\n",
       "      <td>A</td>\n",
       "    </tr>\n",
       "    <tr>\n",
       "      <th>1</th>\n",
       "      <td>60300000</td>\n",
       "      <td>694000</td>\n",
       "      <td>41.74</td>\n",
       "      <td>0.759</td>\n",
       "      <td>518000</td>\n",
       "      <td>36</td>\n",
       "      <td>1980</td>\n",
       "      <td>A</td>\n",
       "    </tr>\n",
       "    <tr>\n",
       "      <th>2</th>\n",
       "      <td>53700000</td>\n",
       "      <td>744000</td>\n",
       "      <td>42.89</td>\n",
       "      <td>0.955</td>\n",
       "      <td>384000</td>\n",
       "      <td>38</td>\n",
       "      <td>1978</td>\n",
       "      <td>A</td>\n",
       "    </tr>\n",
       "    <tr>\n",
       "      <th>3</th>\n",
       "      <td>29300000</td>\n",
       "      <td>613000</td>\n",
       "      <td>37.87</td>\n",
       "      <td>0.892</td>\n",
       "      <td>440000</td>\n",
       "      <td>42</td>\n",
       "      <td>1974</td>\n",
       "      <td>C</td>\n",
       "    </tr>\n",
       "    <tr>\n",
       "      <th>4</th>\n",
       "      <td>56200000</td>\n",
       "      <td>717000</td>\n",
       "      <td>38.87</td>\n",
       "      <td>1.005</td>\n",
       "      <td>504000</td>\n",
       "      <td>39</td>\n",
       "      <td>1977</td>\n",
       "      <td>A</td>\n",
       "    </tr>\n",
       "  </tbody>\n",
       "</table>\n",
       "</div>"
      ],
      "text/plain": [
       "      price   tsubo  tsubo_su  kenpei  building  age  birth area\n",
       "0  47400000  563000     44.69   0.834    482000   30   1986    A\n",
       "1  60300000  694000     41.74   0.759    518000   36   1980    A\n",
       "2  53700000  744000     42.89   0.955    384000   38   1978    A\n",
       "3  29300000  613000     37.87   0.892    440000   42   1974    C\n",
       "4  56200000  717000     38.87   1.005    504000   39   1977    A"
      ]
     },
     "execution_count": 2,
     "metadata": {},
     "output_type": "execute_result"
    }
   ],
   "source": [
    "df = pd.read_csv('住宅情報.csv',thousands=',')\n",
    "df.head()"
   ]
  },
  {
   "cell_type": "code",
   "execution_count": 3,
   "metadata": {},
   "outputs": [],
   "source": [
    "# df.info()"
   ]
  },
  {
   "cell_type": "code",
   "execution_count": 4,
   "metadata": {},
   "outputs": [
    {
     "data": {
      "text/html": [
       "<div>\n",
       "<style scoped>\n",
       "    .dataframe tbody tr th:only-of-type {\n",
       "        vertical-align: middle;\n",
       "    }\n",
       "\n",
       "    .dataframe tbody tr th {\n",
       "        vertical-align: top;\n",
       "    }\n",
       "\n",
       "    .dataframe thead th {\n",
       "        text-align: right;\n",
       "    }\n",
       "</style>\n",
       "<table border=\"1\" class=\"dataframe\">\n",
       "  <thead>\n",
       "    <tr style=\"text-align: right;\">\n",
       "      <th></th>\n",
       "      <th>price</th>\n",
       "      <th>tsubo</th>\n",
       "      <th>tsubo_su</th>\n",
       "      <th>kenpei</th>\n",
       "      <th>building</th>\n",
       "      <th>age</th>\n",
       "      <th>birth</th>\n",
       "    </tr>\n",
       "  </thead>\n",
       "  <tbody>\n",
       "    <tr>\n",
       "      <th>count</th>\n",
       "      <td>500.0</td>\n",
       "      <td>500.0</td>\n",
       "      <td>500.0</td>\n",
       "      <td>500.0</td>\n",
       "      <td>500.0</td>\n",
       "      <td>500.0</td>\n",
       "      <td>500.0</td>\n",
       "    </tr>\n",
       "    <tr>\n",
       "      <th>mean</th>\n",
       "      <td>49698200.0</td>\n",
       "      <td>647582.0</td>\n",
       "      <td>40.0</td>\n",
       "      <td>1.0</td>\n",
       "      <td>450258.0</td>\n",
       "      <td>40.0</td>\n",
       "      <td>1976.0</td>\n",
       "    </tr>\n",
       "    <tr>\n",
       "      <th>std</th>\n",
       "      <td>8426389.0</td>\n",
       "      <td>80350.0</td>\n",
       "      <td>5.0</td>\n",
       "      <td>0.0</td>\n",
       "      <td>39636.0</td>\n",
       "      <td>4.0</td>\n",
       "      <td>4.0</td>\n",
       "    </tr>\n",
       "    <tr>\n",
       "      <th>min</th>\n",
       "      <td>23700000.0</td>\n",
       "      <td>397000.0</td>\n",
       "      <td>28.0</td>\n",
       "      <td>1.0</td>\n",
       "      <td>336000.0</td>\n",
       "      <td>29.0</td>\n",
       "      <td>1964.0</td>\n",
       "    </tr>\n",
       "    <tr>\n",
       "      <th>25%</th>\n",
       "      <td>44100000.0</td>\n",
       "      <td>592750.0</td>\n",
       "      <td>37.0</td>\n",
       "      <td>1.0</td>\n",
       "      <td>424000.0</td>\n",
       "      <td>37.0</td>\n",
       "      <td>1973.0</td>\n",
       "    </tr>\n",
       "    <tr>\n",
       "      <th>50%</th>\n",
       "      <td>49350000.0</td>\n",
       "      <td>648000.0</td>\n",
       "      <td>40.0</td>\n",
       "      <td>1.0</td>\n",
       "      <td>451000.0</td>\n",
       "      <td>40.0</td>\n",
       "      <td>1976.0</td>\n",
       "    </tr>\n",
       "    <tr>\n",
       "      <th>75%</th>\n",
       "      <td>55525000.0</td>\n",
       "      <td>704250.0</td>\n",
       "      <td>44.0</td>\n",
       "      <td>1.0</td>\n",
       "      <td>478000.0</td>\n",
       "      <td>43.0</td>\n",
       "      <td>1979.0</td>\n",
       "    </tr>\n",
       "    <tr>\n",
       "      <th>max</th>\n",
       "      <td>71000000.0</td>\n",
       "      <td>889000.0</td>\n",
       "      <td>61.0</td>\n",
       "      <td>1.0</td>\n",
       "      <td>542000.0</td>\n",
       "      <td>52.0</td>\n",
       "      <td>1987.0</td>\n",
       "    </tr>\n",
       "  </tbody>\n",
       "</table>\n",
       "</div>"
      ],
      "text/plain": [
       "            price     tsubo  tsubo_su  kenpei  building    age   birth\n",
       "count       500.0     500.0     500.0   500.0     500.0  500.0   500.0\n",
       "mean   49698200.0  647582.0      40.0     1.0  450258.0   40.0  1976.0\n",
       "std     8426389.0   80350.0       5.0     0.0   39636.0    4.0     4.0\n",
       "min    23700000.0  397000.0      28.0     1.0  336000.0   29.0  1964.0\n",
       "25%    44100000.0  592750.0      37.0     1.0  424000.0   37.0  1973.0\n",
       "50%    49350000.0  648000.0      40.0     1.0  451000.0   40.0  1976.0\n",
       "75%    55525000.0  704250.0      44.0     1.0  478000.0   43.0  1979.0\n",
       "max    71000000.0  889000.0      61.0     1.0  542000.0   52.0  1987.0"
      ]
     },
     "execution_count": 4,
     "metadata": {},
     "output_type": "execute_result"
    }
   ],
   "source": [
    "# 量的変数の基本統計量\n",
    "round(df.describe(),0)"
   ]
  },
  {
   "cell_type": "code",
   "execution_count": 5,
   "metadata": {},
   "outputs": [
    {
     "data": {
      "text/html": [
       "<div>\n",
       "<style scoped>\n",
       "    .dataframe tbody tr th:only-of-type {\n",
       "        vertical-align: middle;\n",
       "    }\n",
       "\n",
       "    .dataframe tbody tr th {\n",
       "        vertical-align: top;\n",
       "    }\n",
       "\n",
       "    .dataframe thead th {\n",
       "        text-align: right;\n",
       "    }\n",
       "</style>\n",
       "<table border=\"1\" class=\"dataframe\">\n",
       "  <thead>\n",
       "    <tr style=\"text-align: right;\">\n",
       "      <th></th>\n",
       "      <th>price</th>\n",
       "      <th>tsubo</th>\n",
       "      <th>tsubo_su</th>\n",
       "      <th>kenpei</th>\n",
       "      <th>building</th>\n",
       "      <th>age</th>\n",
       "      <th>birth</th>\n",
       "      <th>area</th>\n",
       "    </tr>\n",
       "  </thead>\n",
       "  <tbody>\n",
       "    <tr>\n",
       "      <th>count</th>\n",
       "      <td>5.000000e+02</td>\n",
       "      <td>500.00000</td>\n",
       "      <td>500.000000</td>\n",
       "      <td>500.000000</td>\n",
       "      <td>500.000000</td>\n",
       "      <td>500.000000</td>\n",
       "      <td>500.000000</td>\n",
       "      <td>500</td>\n",
       "    </tr>\n",
       "    <tr>\n",
       "      <th>unique</th>\n",
       "      <td>NaN</td>\n",
       "      <td>NaN</td>\n",
       "      <td>NaN</td>\n",
       "      <td>NaN</td>\n",
       "      <td>NaN</td>\n",
       "      <td>NaN</td>\n",
       "      <td>NaN</td>\n",
       "      <td>4</td>\n",
       "    </tr>\n",
       "    <tr>\n",
       "      <th>top</th>\n",
       "      <td>NaN</td>\n",
       "      <td>NaN</td>\n",
       "      <td>NaN</td>\n",
       "      <td>NaN</td>\n",
       "      <td>NaN</td>\n",
       "      <td>NaN</td>\n",
       "      <td>NaN</td>\n",
       "      <td>A</td>\n",
       "    </tr>\n",
       "    <tr>\n",
       "      <th>freq</th>\n",
       "      <td>NaN</td>\n",
       "      <td>NaN</td>\n",
       "      <td>NaN</td>\n",
       "      <td>NaN</td>\n",
       "      <td>NaN</td>\n",
       "      <td>NaN</td>\n",
       "      <td>NaN</td>\n",
       "      <td>279</td>\n",
       "    </tr>\n",
       "    <tr>\n",
       "      <th>mean</th>\n",
       "      <td>4.969820e+07</td>\n",
       "      <td>647582.00000</td>\n",
       "      <td>40.418260</td>\n",
       "      <td>0.852584</td>\n",
       "      <td>450258.000000</td>\n",
       "      <td>40.156000</td>\n",
       "      <td>1975.844000</td>\n",
       "      <td>NaN</td>\n",
       "    </tr>\n",
       "    <tr>\n",
       "      <th>std</th>\n",
       "      <td>8.426389e+06</td>\n",
       "      <td>80350.10613</td>\n",
       "      <td>5.168393</td>\n",
       "      <td>0.050790</td>\n",
       "      <td>39636.214438</td>\n",
       "      <td>4.000459</td>\n",
       "      <td>4.000459</td>\n",
       "      <td>NaN</td>\n",
       "    </tr>\n",
       "    <tr>\n",
       "      <th>min</th>\n",
       "      <td>2.370000e+07</td>\n",
       "      <td>397000.00000</td>\n",
       "      <td>28.310000</td>\n",
       "      <td>0.674000</td>\n",
       "      <td>336000.000000</td>\n",
       "      <td>29.000000</td>\n",
       "      <td>1964.000000</td>\n",
       "      <td>NaN</td>\n",
       "    </tr>\n",
       "    <tr>\n",
       "      <th>25%</th>\n",
       "      <td>4.410000e+07</td>\n",
       "      <td>592750.00000</td>\n",
       "      <td>36.687500</td>\n",
       "      <td>0.818000</td>\n",
       "      <td>424000.000000</td>\n",
       "      <td>37.000000</td>\n",
       "      <td>1973.000000</td>\n",
       "      <td>NaN</td>\n",
       "    </tr>\n",
       "    <tr>\n",
       "      <th>50%</th>\n",
       "      <td>4.935000e+07</td>\n",
       "      <td>648000.00000</td>\n",
       "      <td>40.450000</td>\n",
       "      <td>0.850000</td>\n",
       "      <td>451000.000000</td>\n",
       "      <td>40.000000</td>\n",
       "      <td>1976.000000</td>\n",
       "      <td>NaN</td>\n",
       "    </tr>\n",
       "    <tr>\n",
       "      <th>75%</th>\n",
       "      <td>5.552500e+07</td>\n",
       "      <td>704250.00000</td>\n",
       "      <td>43.760000</td>\n",
       "      <td>0.886000</td>\n",
       "      <td>478000.000000</td>\n",
       "      <td>43.000000</td>\n",
       "      <td>1979.000000</td>\n",
       "      <td>NaN</td>\n",
       "    </tr>\n",
       "    <tr>\n",
       "      <th>max</th>\n",
       "      <td>7.100000e+07</td>\n",
       "      <td>889000.00000</td>\n",
       "      <td>60.860000</td>\n",
       "      <td>1.005000</td>\n",
       "      <td>542000.000000</td>\n",
       "      <td>52.000000</td>\n",
       "      <td>1987.000000</td>\n",
       "      <td>NaN</td>\n",
       "    </tr>\n",
       "  </tbody>\n",
       "</table>\n",
       "</div>"
      ],
      "text/plain": [
       "               price         tsubo    tsubo_su      kenpei       building  \\\n",
       "count   5.000000e+02     500.00000  500.000000  500.000000     500.000000   \n",
       "unique           NaN           NaN         NaN         NaN            NaN   \n",
       "top              NaN           NaN         NaN         NaN            NaN   \n",
       "freq             NaN           NaN         NaN         NaN            NaN   \n",
       "mean    4.969820e+07  647582.00000   40.418260    0.852584  450258.000000   \n",
       "std     8.426389e+06   80350.10613    5.168393    0.050790   39636.214438   \n",
       "min     2.370000e+07  397000.00000   28.310000    0.674000  336000.000000   \n",
       "25%     4.410000e+07  592750.00000   36.687500    0.818000  424000.000000   \n",
       "50%     4.935000e+07  648000.00000   40.450000    0.850000  451000.000000   \n",
       "75%     5.552500e+07  704250.00000   43.760000    0.886000  478000.000000   \n",
       "max     7.100000e+07  889000.00000   60.860000    1.005000  542000.000000   \n",
       "\n",
       "               age        birth area  \n",
       "count   500.000000   500.000000  500  \n",
       "unique         NaN          NaN    4  \n",
       "top            NaN          NaN    A  \n",
       "freq           NaN          NaN  279  \n",
       "mean     40.156000  1975.844000  NaN  \n",
       "std       4.000459     4.000459  NaN  \n",
       "min      29.000000  1964.000000  NaN  \n",
       "25%      37.000000  1973.000000  NaN  \n",
       "50%      40.000000  1976.000000  NaN  \n",
       "75%      43.000000  1979.000000  NaN  \n",
       "max      52.000000  1987.000000  NaN  "
      ]
     },
     "execution_count": 5,
     "metadata": {},
     "output_type": "execute_result"
    }
   ],
   "source": [
    "# 量的変数と質的変数の基本統計量\n",
    "df.describe(include = 'all')"
   ]
  },
  {
   "cell_type": "code",
   "execution_count": 6,
   "metadata": {},
   "outputs": [
    {
     "data": {
      "text/plain": [
       "Text(0,0.5,'Count')"
      ]
     },
     "execution_count": 6,
     "metadata": {},
     "output_type": "execute_result"
    },
    {
     "data": {
      "image/png": "[encoded data removed]",
      "text/plain": [
       "<Figure size 432x288 with 1 Axes>"
      ]
     },
     "metadata": {
      "needs_background": "light"
     },
     "output_type": "display_data"
    }
   ],
   "source": [
    "# priceのヒストグラムを作る\n",
    "plt.hist(df['price'])\n",
    "\n",
    "# x軸とy軸のラベルをつける\n",
    "plt.xlabel('price')\n",
    "plt.ylabel('Count')"
   ]
  },
  {
   "cell_type": "code",
   "execution_count": 7,
   "metadata": {},
   "outputs": [
    {
     "data": {
      "text/plain": [
       "count    5.000000e+02\n",
       "mean     4.969820e+07\n",
       "std      8.426389e+06\n",
       "min      2.370000e+07\n",
       "25%      4.410000e+07\n",
       "50%      4.935000e+07\n",
       "75%      5.552500e+07\n",
       "max      7.100000e+07\n",
       "Name: price, dtype: float64"
      ]
     },
     "execution_count": 7,
     "metadata": {},
     "output_type": "execute_result"
    }
   ],
   "source": [
    "df['price'].describe()"
   ]
  },
  {
   "cell_type": "code",
   "execution_count": 8,
   "metadata": {},
   "outputs": [
    {
     "data": {
      "text/plain": [
       "49350000.0"
      ]
     },
     "execution_count": 8,
     "metadata": {},
     "output_type": "execute_result"
    }
   ],
   "source": [
    "df['price'].median()"
   ]
  },
  {
   "cell_type": "code",
   "execution_count": 9,
   "metadata": {},
   "outputs": [
    {
     "data": {
      "text/plain": [
       "71004024809619.23"
      ]
     },
     "execution_count": 9,
     "metadata": {},
     "output_type": "execute_result"
    }
   ],
   "source": [
    "df['price'].var()"
   ]
  },
  {
   "cell_type": "code",
   "execution_count": 10,
   "metadata": {},
   "outputs": [
    {
     "data": {
      "text/html": [
       "<div>\n",
       "<style scoped>\n",
       "    .dataframe tbody tr th:only-of-type {\n",
       "        vertical-align: middle;\n",
       "    }\n",
       "\n",
       "    .dataframe tbody tr th {\n",
       "        vertical-align: top;\n",
       "    }\n",
       "\n",
       "    .dataframe thead th {\n",
       "        text-align: right;\n",
       "    }\n",
       "</style>\n",
       "<table border=\"1\" class=\"dataframe\">\n",
       "  <thead>\n",
       "    <tr style=\"text-align: right;\">\n",
       "      <th></th>\n",
       "      <th>price</th>\n",
       "    </tr>\n",
       "    <tr>\n",
       "      <th>area</th>\n",
       "      <th></th>\n",
       "    </tr>\n",
       "  </thead>\n",
       "  <tbody>\n",
       "    <tr>\n",
       "      <th>A</th>\n",
       "      <td>5.477563e+07</td>\n",
       "    </tr>\n",
       "    <tr>\n",
       "      <th>B</th>\n",
       "      <td>4.345238e+07</td>\n",
       "    </tr>\n",
       "    <tr>\n",
       "      <th>C</th>\n",
       "      <td>4.322917e+07</td>\n",
       "    </tr>\n",
       "    <tr>\n",
       "      <th>D</th>\n",
       "      <td>4.309024e+07</td>\n",
       "    </tr>\n",
       "  </tbody>\n",
       "</table>\n",
       "</div>"
      ],
      "text/plain": [
       "             price\n",
       "area              \n",
       "A     5.477563e+07\n",
       "B     4.345238e+07\n",
       "C     4.322917e+07\n",
       "D     4.309024e+07"
      ]
     },
     "execution_count": 10,
     "metadata": {},
     "output_type": "execute_result"
    }
   ],
   "source": [
    "# 層別解析\n",
    "df.groupby(['area']).mean()[['price']]"
   ]
  },
  {
   "cell_type": "code",
   "execution_count": 11,
   "metadata": {},
   "outputs": [
    {
     "data": {
      "text/html": [
       "<div>\n",
       "<style scoped>\n",
       "    .dataframe tbody tr th:only-of-type {\n",
       "        vertical-align: middle;\n",
       "    }\n",
       "\n",
       "    .dataframe tbody tr th {\n",
       "        vertical-align: top;\n",
       "    }\n",
       "\n",
       "    .dataframe thead th {\n",
       "        text-align: right;\n",
       "    }\n",
       "</style>\n",
       "<table border=\"1\" class=\"dataframe\">\n",
       "  <thead>\n",
       "    <tr style=\"text-align: right;\">\n",
       "      <th></th>\n",
       "      <th>price</th>\n",
       "      <th>tsubo</th>\n",
       "      <th>tsubo_su</th>\n",
       "      <th>kenpei</th>\n",
       "      <th>building</th>\n",
       "      <th>age</th>\n",
       "      <th>birth</th>\n",
       "    </tr>\n",
       "  </thead>\n",
       "  <tbody>\n",
       "    <tr>\n",
       "      <th>price</th>\n",
       "      <td>1.000000</td>\n",
       "      <td>0.452456</td>\n",
       "      <td>0.364636</td>\n",
       "      <td>0.070412</td>\n",
       "      <td>0.055201</td>\n",
       "      <td>0.099212</td>\n",
       "      <td>-0.099212</td>\n",
       "    </tr>\n",
       "    <tr>\n",
       "      <th>tsubo</th>\n",
       "      <td>0.452456</td>\n",
       "      <td>1.000000</td>\n",
       "      <td>-0.041617</td>\n",
       "      <td>0.062542</td>\n",
       "      <td>-0.011701</td>\n",
       "      <td>0.069163</td>\n",
       "      <td>-0.069163</td>\n",
       "    </tr>\n",
       "    <tr>\n",
       "      <th>tsubo_su</th>\n",
       "      <td>0.364636</td>\n",
       "      <td>-0.041617</td>\n",
       "      <td>1.000000</td>\n",
       "      <td>-0.018341</td>\n",
       "      <td>-0.052908</td>\n",
       "      <td>-0.023773</td>\n",
       "      <td>0.023773</td>\n",
       "    </tr>\n",
       "    <tr>\n",
       "      <th>kenpei</th>\n",
       "      <td>0.070412</td>\n",
       "      <td>0.062542</td>\n",
       "      <td>-0.018341</td>\n",
       "      <td>1.000000</td>\n",
       "      <td>-0.043538</td>\n",
       "      <td>0.015361</td>\n",
       "      <td>-0.015361</td>\n",
       "    </tr>\n",
       "    <tr>\n",
       "      <th>building</th>\n",
       "      <td>0.055201</td>\n",
       "      <td>-0.011701</td>\n",
       "      <td>-0.052908</td>\n",
       "      <td>-0.043538</td>\n",
       "      <td>1.000000</td>\n",
       "      <td>0.072063</td>\n",
       "      <td>-0.072063</td>\n",
       "    </tr>\n",
       "    <tr>\n",
       "      <th>age</th>\n",
       "      <td>0.099212</td>\n",
       "      <td>0.069163</td>\n",
       "      <td>-0.023773</td>\n",
       "      <td>0.015361</td>\n",
       "      <td>0.072063</td>\n",
       "      <td>1.000000</td>\n",
       "      <td>-1.000000</td>\n",
       "    </tr>\n",
       "    <tr>\n",
       "      <th>birth</th>\n",
       "      <td>-0.099212</td>\n",
       "      <td>-0.069163</td>\n",
       "      <td>0.023773</td>\n",
       "      <td>-0.015361</td>\n",
       "      <td>-0.072063</td>\n",
       "      <td>-1.000000</td>\n",
       "      <td>1.000000</td>\n",
       "    </tr>\n",
       "  </tbody>\n",
       "</table>\n",
       "</div>"
      ],
      "text/plain": [
       "             price     tsubo  tsubo_su    kenpei  building       age     birth\n",
       "price     1.000000  0.452456  0.364636  0.070412  0.055201  0.099212 -0.099212\n",
       "tsubo     0.452456  1.000000 -0.041617  0.062542 -0.011701  0.069163 -0.069163\n",
       "tsubo_su  0.364636 -0.041617  1.000000 -0.018341 -0.052908 -0.023773  0.023773\n",
       "kenpei    0.070412  0.062542 -0.018341  1.000000 -0.043538  0.015361 -0.015361\n",
       "building  0.055201 -0.011701 -0.052908 -0.043538  1.000000  0.072063 -0.072063\n",
       "age       0.099212  0.069163 -0.023773  0.015361  0.072063  1.000000 -1.000000\n",
       "birth    -0.099212 -0.069163  0.023773 -0.015361 -0.072063 -1.000000  1.000000"
      ]
     },
     "execution_count": 11,
     "metadata": {},
     "output_type": "execute_result"
    }
   ],
   "source": [
    "# 相関係数\n",
    "corr_mat = df.corr(method='pearson')\n",
    "corr_mat"
   ]
  },
  {
   "cell_type": "code",
   "execution_count": 12,
   "metadata": {},
   "outputs": [
    {
     "data": {
      "image/png": "[encoded data removed]",
      "text/plain": [
       "<Figure size 432x288 with 2 Axes>"
      ]
     },
     "metadata": {
      "needs_background": "light"
     },
     "output_type": "display_data"
    }
   ],
   "source": [
    "sns.heatmap(corr_mat,\n",
    "vmin=-1.0,\n",
    "vmax=1.0,\n",
    "center=0,\n",
    "annot=True, # True:表に値を表示\n",
    "fmt='.1f',\n",
    "xticklabels=corr_mat.columns.values,\n",
    "yticklabels=corr_mat.columns.values\n",
    ")\n",
    "plt.show()"
   ]
  },
  {
   "cell_type": "code",
   "execution_count": 13,
   "metadata": {},
   "outputs": [
    {
     "data": {
      "text/plain": [
       "Text(0,0.5,'price')"
      ]
     },
     "execution_count": 13,
     "metadata": {},
     "output_type": "execute_result"
    },
    {
     "data": {
      "image/png": "[encoded data removed]",
      "text/plain": [
       "<Figure size 432x288 with 1 Axes>"
      ]
     },
     "metadata": {
      "needs_background": "light"
     },
     "output_type": "display_data"
    }
   ],
   "source": [
    "# 散布図をプロットする\n",
    "plt.scatter(df['tsubo'],df['price'])\n",
    "\n",
    "plt.xlabel('tsubo')\n",
    "plt.ylabel('price')"
   ]
  },
  {
   "cell_type": "code",
   "execution_count": 14,
   "metadata": {},
   "outputs": [
    {
     "data": {
      "text/plain": [
       "Text(0,0.5,'price')"
      ]
     },
     "execution_count": 14,
     "metadata": {},
     "output_type": "execute_result"
    },
    {
     "data": {
      "image/png": "[encoded data removed]",
      "text/plain": [
       "<Figure size 432x288 with 1 Axes>"
      ]
     },
     "metadata": {
      "needs_background": "light"
     },
     "output_type": "display_data"
    }
   ],
   "source": [
    "# 散布図をプロットする\n",
    "plt.scatter(df['tsubo_su'],df['price'])\n",
    "\n",
    "plt.xlabel('tsubo_su')\n",
    "plt.ylabel('price')"
   ]
  },
  {
   "cell_type": "code",
   "execution_count": 15,
   "metadata": {},
   "outputs": [],
   "source": [
    "# Step1：データから目的変数と説明変数(複数列でも可)を選ぶ\n",
    "# Step2：使いたい予測モデルを選んで、必要なモジュールをインポートする(今回は回帰モデルを選ぶ)\n",
    "# Step3：モデルのクラスからモデルインスタンスを生成する\n",
    "# Step4：生成したインスタンスに目的変数と説明変数を指定する(fitさせる)"
   ]
  },
  {
   "cell_type": "code",
   "execution_count": 17,
   "metadata": {},
   "outputs": [],
   "source": [
    "reg = linear_model.LinearRegression()"
   ]
  },
  {
   "cell_type": "code",
   "execution_count": 18,
   "metadata": {},
   "outputs": [],
   "source": [
    "# 説明変数を定義する\n",
    "X = df[['tsubo']]\n",
    "# 目的変数を定義する\n",
    "Y = df[['price']]"
   ]
  },
  {
   "cell_type": "code",
   "execution_count": 19,
   "metadata": {},
   "outputs": [
    {
     "data": {
      "text/plain": [
       "LinearRegression(copy_X=True, fit_intercept=True, n_jobs=1, normalize=False)"
      ]
     },
     "execution_count": 19,
     "metadata": {},
     "output_type": "execute_result"
    }
   ],
   "source": [
    "# モデル作成\n",
    "reg.fit(X,Y)"
   ]
  },
  {
   "cell_type": "code",
   "execution_count": 20,
   "metadata": {},
   "outputs": [
    {
     "name": "stdout",
     "output_type": "stream",
     "text": [
      "回帰係数は [[47.44945887]] \n",
      "\n",
      "切片は [18970784.52832152]\n"
     ]
    }
   ],
   "source": [
    "print('回帰係数は',reg.coef_,'\\n')\n",
    "print('切片は',reg.intercept_)"
   ]
  },
  {
   "cell_type": "code",
   "execution_count": 21,
   "metadata": {},
   "outputs": [
    {
     "name": "stdout",
     "output_type": "stream",
     "text": [
      "作成されたモデル：priceの予測値 = 47.4×tsuboの値 + 18970784.5\n"
     ]
    }
   ],
   "source": [
    "print('作成されたモデル：priceの予測値 = {0:.1f}×tsuboの値 + {1:.1f}'.format(reg.coef_[0][0],reg.intercept_[0]))"
   ]
  },
  {
   "cell_type": "code",
   "execution_count": 22,
   "metadata": {},
   "outputs": [
    {
     "data": {
      "text/plain": [
       "[<matplotlib.lines.Line2D at 0x1a2518de50>]"
      ]
     },
     "execution_count": 22,
     "metadata": {},
     "output_type": "execute_result"
    },
    {
     "data": {
      "image/png": "[encoded data removed]",
      "text/plain": [
       "<Figure size 432x288 with 1 Axes>"
      ]
     },
     "metadata": {
      "needs_background": "light"
     },
     "output_type": "display_data"
    }
   ],
   "source": [
    "# 散布図をプロットする\n",
    "plt.scatter(df['tsubo'],df['price'])\n",
    "plt.xlabel('tsubo')\n",
    "plt.ylabel('price')\n",
    "#　回帰直線をプロットする\n",
    "plt.plot(X,reg.predict(X))"
   ]
  },
  {
   "cell_type": "code",
   "execution_count": 23,
   "metadata": {},
   "outputs": [
    {
     "data": {
      "text/plain": [
       "0.204716321979326"
      ]
     },
     "execution_count": 23,
     "metadata": {},
     "output_type": "execute_result"
    }
   ],
   "source": [
    "# 決定係数のとりあえずの目安としては 0.2以下：低い　0.2〜0.5：ふつう　0.5以上：高い\n",
    "# 決定係数を出力\n",
    "reg.score(X,Y)"
   ]
  },
  {
   "cell_type": "code",
   "execution_count": 24,
   "metadata": {},
   "outputs": [],
   "source": [
    "reg2 = linear_model.LinearRegression()"
   ]
  },
  {
   "cell_type": "code",
   "execution_count": 25,
   "metadata": {},
   "outputs": [],
   "source": [
    "# 説明変数を定義する\n",
    "X2 = df[['tsubo_su']]\n",
    "# 目的変数を定義する\n",
    "Y = df[['price']]"
   ]
  },
  {
   "cell_type": "code",
   "execution_count": 26,
   "metadata": {},
   "outputs": [
    {
     "data": {
      "text/plain": [
       "LinearRegression(copy_X=True, fit_intercept=True, n_jobs=1, normalize=False)"
      ]
     },
     "execution_count": 26,
     "metadata": {},
     "output_type": "execute_result"
    }
   ],
   "source": [
    "# モデル作成\n",
    "reg2.fit(X2,Y)"
   ]
  },
  {
   "cell_type": "code",
   "execution_count": 27,
   "metadata": {},
   "outputs": [
    {
     "name": "stdout",
     "output_type": "stream",
     "text": [
      "回帰係数は [[594491.76903528]] \n",
      "\n",
      "切片は [25669877.11127199]\n"
     ]
    }
   ],
   "source": [
    "print('回帰係数は',reg2.coef_,'\\n')\n",
    "print('切片は',reg2.intercept_)"
   ]
  },
  {
   "cell_type": "code",
   "execution_count": 28,
   "metadata": {},
   "outputs": [
    {
     "name": "stdout",
     "output_type": "stream",
     "text": [
      "作成されたモデル：priceの予測値 = 594491.8×tsuboの値 + 25669877.1\n"
     ]
    }
   ],
   "source": [
    "print('作成されたモデル：priceの予測値 = {0:.1f}×tsuboの値 + {1:.1f}'.format(reg2.coef_[0][0],reg2.intercept_[0]))"
   ]
  },
  {
   "cell_type": "code",
   "execution_count": 29,
   "metadata": {},
   "outputs": [
    {
     "data": {
      "text/plain": [
       "[<matplotlib.lines.Line2D at 0x1a2551b190>]"
      ]
     },
     "execution_count": 29,
     "metadata": {},
     "output_type": "execute_result"
    },
    {
     "data": {
      "image/png": "[encoded data removed]",
      "text/plain": [
       "<Figure size 432x288 with 1 Axes>"
      ]
     },
     "metadata": {
      "needs_background": "light"
     },
     "output_type": "display_data"
    }
   ],
   "source": [
    "# 散布図をプロットする\n",
    "plt.scatter(df['tsubo_su'],df['price'])\n",
    "plt.xlabel('tsubo_su')\n",
    "plt.ylabel('price')\n",
    "#　回帰直線をプロットする\n",
    "plt.plot(X2,reg2.predict(X2))"
   ]
  },
  {
   "cell_type": "code",
   "execution_count": 30,
   "metadata": {},
   "outputs": [
    {
     "data": {
      "text/plain": [
       "0.1329596514544935"
      ]
     },
     "execution_count": 30,
     "metadata": {},
     "output_type": "execute_result"
    }
   ],
   "source": [
    "reg2.score(X2,Y)"
   ]
  },
  {
   "cell_type": "code",
   "execution_count": 36,
   "metadata": {},
   "outputs": [],
   "source": [
    "reg3 = linear_model.LinearRegression()\n",
    "# 目的変数（予測対象）のデータを取り出す\n",
    "Y = df[['price']]\n",
    "# 説明変数（予測に使う変数）のデータを取り出す\n",
    "X3 = df[['tsubo','tsubo_su']]"
   ]
  },
  {
   "cell_type": "code",
   "execution_count": 38,
   "metadata": {},
   "outputs": [
    {
     "data": {
      "text/plain": [
       "LinearRegression(copy_X=True, fit_intercept=True, n_jobs=1, normalize=False)"
      ]
     },
     "execution_count": 38,
     "metadata": {},
     "output_type": "execute_result"
    }
   ],
   "source": [
    "reg3.fit(X3,Y)"
   ]
  },
  {
   "cell_type": "code",
   "execution_count": 39,
   "metadata": {},
   "outputs": [
    {
     "name": "stdout",
     "output_type": "stream",
     "text": [
      "回帰係数は [[4.91259738e+01 6.26276201e+05]] \n",
      "\n",
      "切片は [-7427890.70904541]\n"
     ]
    }
   ],
   "source": [
    "print('回帰係数は',reg3.coef_,'\\n') #アンダーバー(_)に注意、忘れないように！\n",
    "print('切片は',reg3.intercept_)"
   ]
  },
  {
   "cell_type": "code",
   "execution_count": 40,
   "metadata": {},
   "outputs": [
    {
     "data": {
      "text/plain": [
       "Text(0,0.5,'yosoku')"
      ]
     },
     "execution_count": 40,
     "metadata": {},
     "output_type": "execute_result"
    },
    {
     "data": {
      "image/png": "[encoded data removed]",
      "text/plain": [
       "<Figure size 432x288 with 1 Axes>"
      ]
     },
     "metadata": {
      "needs_background": "light"
     },
     "output_type": "display_data"
    }
   ],
   "source": [
    "#　実測値と予測値の散布図をプロットする\n",
    "plt.scatter(Y,reg3.predict(X3))\n",
    "\n",
    "# 散布図をプロットする\n",
    "plt.xlabel('jissoku')\n",
    "plt.ylabel('yosoku')"
   ]
  },
  {
   "cell_type": "code",
   "execution_count": 41,
   "metadata": {},
   "outputs": [
    {
     "data": {
      "text/plain": [
       "0.3520178148928559"
      ]
     },
     "execution_count": 41,
     "metadata": {},
     "output_type": "execute_result"
    }
   ],
   "source": [
    "reg3.score(X3,Y)"
   ]
  },
  {
   "cell_type": "code",
   "execution_count": null,
   "metadata": {},
   "outputs": [],
   "source": []
  }
 ],
 "metadata": {
  "kernelspec": {
   "display_name": "Python 3",
   "language": "python",
   "name": "python3"
  },
  "language_info": {
   "codemirror_mode": {
    "name": "ipython",
    "version": 3
   },
   "file_extension": ".py",
   "mimetype": "text/x-python",
   "name": "python",
   "nbconvert_exporter": "python",
   "pygments_lexer": "ipython3",
   "version": "3.7.4"
  }
 },
 "nbformat": 4,
 "nbformat_minor": 2
}
