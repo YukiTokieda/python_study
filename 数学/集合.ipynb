{
 "cells": [
  {
   "cell_type": "code",
   "execution_count": 1,
   "metadata": {},
   "outputs": [],
   "source": [
    "import itertools\n",
    "import math"
   ]
  },
  {
   "cell_type": "code",
   "execution_count": 2,
   "metadata": {},
   "outputs": [
    {
     "data": {
      "text/plain": [
       "True"
      ]
     },
     "execution_count": 2,
     "metadata": {},
     "output_type": "execute_result"
    }
   ],
   "source": [
    "# 集合\n",
    "# 集合に順番という概念はない\n",
    "# 重複した値が含まれない\n",
    "\n",
    "A = {1,2,3,4,5,6,7,8,9,10}\n",
    "B = {1,10,2,9,3,8,4,5,7,6}\n",
    "A == B"
   ]
  },
  {
   "cell_type": "code",
   "execution_count": 3,
   "metadata": {},
   "outputs": [
    {
     "data": {
      "text/plain": [
       "True"
      ]
     },
     "execution_count": 3,
     "metadata": {},
     "output_type": "execute_result"
    }
   ],
   "source": [
    "# 集合演算\n",
    "U = {1,2,3,4,5,6,7,8,9,10}\n",
    "A = {2,4,6,8,10}\n",
    "\n",
    "# 部分集合\n",
    "# 集合Aの全ての要素が集合Uに含まれる\n",
    "A <= U"
   ]
  },
  {
   "cell_type": "code",
   "execution_count": 4,
   "metadata": {},
   "outputs": [
    {
     "data": {
      "text/plain": [
       "{6}"
      ]
     },
     "execution_count": 4,
     "metadata": {},
     "output_type": "execute_result"
    }
   ],
   "source": [
    "# 集合演算\n",
    "A = {2,4,6,8,10}\n",
    "B = {3,6,9}\n",
    "# 積集合\n",
    "# ２つの集合の共通する要素\n",
    "A  & B"
   ]
  },
  {
   "cell_type": "code",
   "execution_count": 5,
   "metadata": {},
   "outputs": [
    {
     "data": {
      "text/plain": [
       "{2, 3, 4, 6, 8, 9, 10}"
      ]
     },
     "execution_count": 5,
     "metadata": {},
     "output_type": "execute_result"
    }
   ],
   "source": [
    "# 集合演算\n",
    "A = {2,4,6,8,10}\n",
    "B = {3,6,9}\n",
    "# 和集合\n",
    "# ２つの集合の全要素を合わせた要素\n",
    "A | B"
   ]
  },
  {
   "cell_type": "code",
   "execution_count": 6,
   "metadata": {},
   "outputs": [
    {
     "name": "stdout",
     "output_type": "stream",
     "text": [
      "{8, 2, 10, 4}\n",
      "{9, 3}\n"
     ]
    }
   ],
   "source": [
    "# 集合演算\n",
    "A = {2,4,6,8,10}\n",
    "B = {3,6,9}\n",
    "# 差集合\n",
    "# ２つの集合の全要素を合わせた要素\n",
    "# Aのみ\n",
    "print(A - B)\n",
    "# Bのみ\n",
    "print(B - A)"
   ]
  },
  {
   "cell_type": "code",
   "execution_count": 7,
   "metadata": {},
   "outputs": [
    {
     "data": {
      "text/plain": [
       "{2, 3, 4, 8, 9, 10}"
      ]
     },
     "execution_count": 7,
     "metadata": {},
     "output_type": "execute_result"
    }
   ],
   "source": [
    "# 集合演算\n",
    "A = {2,4,6,8,10}\n",
    "B = {3,6,9}\n",
    "# 対集合\n",
    "# ２つの集合の全要素から共通した要素を除いた要素\n",
    "A ^ B"
   ]
  },
  {
   "cell_type": "code",
   "execution_count": 8,
   "metadata": {},
   "outputs": [
    {
     "data": {
      "text/plain": [
       "set()"
      ]
     },
     "execution_count": 8,
     "metadata": {},
     "output_type": "execute_result"
    }
   ],
   "source": [
    "# 集合演算\n",
    "A = {2,4,8,10}\n",
    "B = {3,6,9}\n",
    "# 空集合\n",
    "A & B"
   ]
  },
  {
   "cell_type": "code",
   "execution_count": 9,
   "metadata": {},
   "outputs": [
    {
     "data": {
      "text/plain": [
       "60"
      ]
     },
     "execution_count": 9,
     "metadata": {},
     "output_type": "execute_result"
    }
   ],
   "source": [
    "num = {1,2,3,4,5}\n",
    "A = set(itertools.permutations(num,3))\n",
    "len(A)\n",
    "\n",
    "# for a in A:\n",
    "#     print(a)"
   ]
  },
  {
   "cell_type": "code",
   "execution_count": 23,
   "metadata": {},
   "outputs": [
    {
     "data": {
      "text/plain": [
       "120"
      ]
     },
     "execution_count": 23,
     "metadata": {},
     "output_type": "execute_result"
    }
   ],
   "source": [
    "# 階乗\n",
    "math.factorial(5)"
   ]
  },
  {
   "cell_type": "code",
   "execution_count": 24,
   "metadata": {},
   "outputs": [
    {
     "data": {
      "text/plain": [
       "24"
      ]
     },
     "execution_count": 24,
     "metadata": {},
     "output_type": "execute_result"
    }
   ],
   "source": [
    "# 円順列\n",
    "math.factorial(5-1)"
   ]
  },
  {
   "cell_type": "code",
   "execution_count": 25,
   "metadata": {},
   "outputs": [
    {
     "data": {
      "text/plain": [
       "12.0"
      ]
     },
     "execution_count": 25,
     "metadata": {},
     "output_type": "execute_result"
    }
   ],
   "source": [
    "# じゅず順列\n",
    "math.factorial(5-1) /2"
   ]
  },
  {
   "cell_type": "code",
   "execution_count": 43,
   "metadata": {},
   "outputs": [
    {
     "name": "stdout",
     "output_type": "stream",
     "text": [
      "125\n"
     ]
    }
   ],
   "source": [
    "# 重複順列\n",
    "num = {1,2,3,4,5}\n",
    "A = set(itertools.product(num, num ,num))\n",
    "print(len(A))\n",
    "\n",
    "# for a in A:\n",
    "#     print(a)"
   ]
  },
  {
   "cell_type": "code",
   "execution_count": 44,
   "metadata": {},
   "outputs": [
    {
     "name": "stdout",
     "output_type": "stream",
     "text": [
      "10\n",
      "(2, 3, 5)\n",
      "(1, 2, 3)\n",
      "(1, 3, 5)\n",
      "(1, 4, 5)\n",
      "(1, 2, 4)\n",
      "(1, 3, 4)\n",
      "(2, 4, 5)\n",
      "(3, 4, 5)\n",
      "(2, 3, 4)\n",
      "(1, 2, 5)\n"
     ]
    }
   ],
   "source": [
    "# 組み合わせ\n",
    "num = {1,2,3,4,5}\n",
    "A = set(itertools.combinations(num, 3))\n",
    "print(len(A))\n",
    "\n",
    "for a in A:\n",
    "    print(a)"
   ]
  },
  {
   "cell_type": "code",
   "execution_count": 45,
   "metadata": {},
   "outputs": [
    {
     "name": "stdout",
     "output_type": "stream",
     "text": [
      "20\n",
      "(3, 4, 6)\n",
      "(2, 3, 5)\n",
      "(2, 3, 6)\n",
      "(1, 4, 5)\n",
      "(1, 4, 6)\n",
      "(2, 4, 5)\n",
      "(2, 4, 6)\n",
      "(1, 2, 3)\n",
      "(1, 2, 4)\n",
      "(2, 5, 6)\n",
      "(4, 5, 6)\n",
      "(1, 2, 5)\n",
      "(1, 2, 6)\n",
      "(1, 3, 6)\n",
      "(1, 5, 6)\n",
      "(1, 3, 5)\n",
      "(3, 5, 6)\n",
      "(1, 3, 4)\n",
      "(3, 4, 5)\n",
      "(2, 3, 4)\n"
     ]
    }
   ],
   "source": [
    "# サイコロを2回降ったときにサイコロの目が異なる数字になる組み合わせ\n",
    "dice = {1,2,3,4,5,6}\n",
    "A = set(itertools.combinations(dice, 3))\n",
    "print(len(A))\n",
    "\n",
    "for a in A:\n",
    "    print(a)"
   ]
  },
  {
   "cell_type": "code",
   "execution_count": null,
   "metadata": {},
   "outputs": [],
   "source": []
  }
 ],
 "metadata": {
  "kernelspec": {
   "display_name": "Python 3",
   "language": "python",
   "name": "python3"
  },
  "language_info": {
   "codemirror_mode": {
    "name": "ipython",
    "version": 3
   },
   "file_extension": ".py",
   "mimetype": "text/x-python",
   "name": "python",
   "nbconvert_exporter": "python",
   "pygments_lexer": "ipython3",
   "version": "3.7.4"
  }
 },
 "nbformat": 4,
 "nbformat_minor": 2
}
