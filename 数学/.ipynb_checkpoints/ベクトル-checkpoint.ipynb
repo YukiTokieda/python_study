{
 "cells": [
  {
   "cell_type": "code",
   "execution_count": 27,
   "metadata": {},
   "outputs": [],
   "source": [
    "import math\n",
    "import numpy as np"
   ]
  },
  {
   "cell_type": "code",
   "execution_count": 28,
   "metadata": {},
   "outputs": [
    {
     "name": "stdout",
     "output_type": "stream",
     "text": [
      "33.690067525979785\n",
      "146.30993247402023\n",
      "-33.690067525979785\n",
      "-146.30993247402023\n"
     ]
    }
   ],
   "source": [
    "y = 2\n",
    "x = 3\n",
    "\n",
    "# ベクトルの方向\n",
    "rad = math.atan2(y, x)#角度を求める（ラジアン）\n",
    "th = math.degrees(rad)#度数方に変換\n",
    "print(th)\n",
    "\n",
    "rad = math.atan2(y, -x)\n",
    "th = math.degrees(rad)\n",
    "print(th)\n",
    "\n",
    "rad = math.atan2(-y, x)#角度を求める（ラジアン）\n",
    "th = math.degrees(rad)#度数方に変換\n",
    "print(th)\n",
    "\n",
    "rad = math.atan2(-y,-x)\n",
    "th = math.degrees(rad)\n",
    "print(th)"
   ]
  },
  {
   "cell_type": "code",
   "execution_count": 31,
   "metadata": {},
   "outputs": [
    {
     "name": "stdout",
     "output_type": "stream",
     "text": [
      "[4 1]\n",
      "[0 3]\n",
      "[4 4]\n"
     ]
    }
   ],
   "source": [
    "# ベクトルの演算\n",
    "a = np.array([2,2])\n",
    "b = np.array([2,-1])\n",
    "\n",
    "print(a+b)\n",
    "print(a-b)\n",
    "print(2*a)"
   ]
  },
  {
   "cell_type": "code",
   "execution_count": 33,
   "metadata": {},
   "outputs": [
    {
     "data": {
      "text/plain": [
       "5.000000000000001"
      ]
     },
     "execution_count": 33,
     "metadata": {},
     "output_type": "execute_result"
    }
   ],
   "source": [
    "10 * math.cos(math.radians(60))"
   ]
  },
  {
   "cell_type": "code",
   "execution_count": 42,
   "metadata": {},
   "outputs": [
    {
     "data": {
      "text/plain": [
       "82.8749836510982"
      ]
     },
     "execution_count": 42,
     "metadata": {},
     "output_type": "execute_result"
    }
   ],
   "source": [
    "# ベクトルの内積\n",
    "# 内積の結果はベクトルではなくスカラー（数値データ）になる\n",
    "# 内積を利用すると２つのベクトル間の角度が求められる\n",
    "# 内積の結果を見ると2つのベクトルの位置関係がわかる\n",
    "\n",
    "# 座標\n",
    "a = np.array([2,7])\n",
    "b = np.array([6,1])\n",
    "c = np.array([2,3])\n",
    "d = np.array([6,5])\n",
    "\n",
    "# ベクトルaとベクトルbの成分\n",
    "va = b - a\n",
    "vb = d - c \n",
    "\n",
    "# ベクトルの大きさ\n",
    "norm_a = np.linalg.norm(va)\n",
    "norm_b = np.linalg.norm(vb)\n",
    "\n",
    "# ベクトルの内積\n",
    "dot_ab = np.dot(va,vb)\n",
    "\n",
    "# 角度を求める\n",
    "cos_th = dot_ab / (norm_a * norm_b)\n",
    "rad = math.acos(cos_th)\n",
    "deg = math.degrees(rad)\n",
    "deg\n"
   ]
  },
  {
   "cell_type": "code",
   "execution_count": 43,
   "metadata": {},
   "outputs": [
    {
     "data": {
      "text/plain": [
       "array([ 0,  4, -2])"
      ]
     },
     "execution_count": 43,
     "metadata": {},
     "output_type": "execute_result"
    }
   ],
   "source": [
    "# ベクトルの外積\n",
    "# 法線ベクトル(3次元空間だけに存在)\n",
    "# 外積の結果出来るベクトルの大きさは、２つのベクトルが作る平行四辺形の面積と等しい\n",
    "\n",
    "a = np.array([0,1,2])\n",
    "b = np.array([2,0,0])\n",
    "np.cross(a,b)\n"
   ]
  },
  {
   "cell_type": "code",
   "execution_count": 48,
   "metadata": {},
   "outputs": [
    {
     "data": {
      "text/plain": [
       "5.0"
      ]
     },
     "execution_count": 48,
     "metadata": {},
     "output_type": "execute_result"
    }
   ],
   "source": [
    "# 三角形の面積\n",
    "a = np.array([2,4])\n",
    "b = np.array([3,1])\n",
    "cross_ab = np.cross(a,b)\n",
    "s = np.linalg.norm(cross_ab)\n",
    "s/2"
   ]
  },
  {
   "cell_type": "code",
   "execution_count": null,
   "metadata": {},
   "outputs": [],
   "source": []
  }
 ],
 "metadata": {
  "kernelspec": {
   "display_name": "Python 3",
   "language": "python",
   "name": "python3"
  },
  "language_info": {
   "codemirror_mode": {
    "name": "ipython",
    "version": 3
   },
   "file_extension": ".py",
   "mimetype": "text/x-python",
   "name": "python",
   "nbconvert_exporter": "python",
   "pygments_lexer": "ipython3",
   "version": "3.7.4"
  }
 },
 "nbformat": 4,
 "nbformat_minor": 2
}
