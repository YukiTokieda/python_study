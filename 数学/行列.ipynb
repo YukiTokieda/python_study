{
 "cells": [
  {
   "cell_type": "code",
   "execution_count": 2,
   "metadata": {},
   "outputs": [],
   "source": [
    "%matplotlib inline\n",
    "import numpy as np\n",
    "import matplotlib.pyplot as plt\n"
   ]
  },
  {
   "cell_type": "code",
   "execution_count": 3,
   "metadata": {},
   "outputs": [
    {
     "data": {
      "text/plain": [
       "matrix([[ 80, 140],\n",
       "        [ 30,  25]])"
      ]
     },
     "execution_count": 3,
     "metadata": {},
     "output_type": "execute_result"
    }
   ],
   "source": [
    "A = np.matrix([[50,40],[10,10]]) \n",
    "B = np.matrix([[30,100],[20,15]])\n",
    "A+B"
   ]
  },
  {
   "cell_type": "code",
   "execution_count": 4,
   "metadata": {},
   "outputs": [
    {
     "data": {
      "text/plain": [
       "matrix([[40., 32.],\n",
       "        [ 8.,  8.]])"
      ]
     },
     "execution_count": 4,
     "metadata": {},
     "output_type": "execute_result"
    }
   ],
   "source": [
    "A * 0.8"
   ]
  },
  {
   "cell_type": "code",
   "execution_count": 5,
   "metadata": {},
   "outputs": [
    {
     "data": {
      "text/plain": [
       "matrix([[2300, 5600],\n",
       "        [ 500, 1150]])"
      ]
     },
     "execution_count": 5,
     "metadata": {},
     "output_type": "execute_result"
    }
   ],
   "source": [
    "A * B"
   ]
  },
  {
   "cell_type": "code",
   "execution_count": 6,
   "metadata": {},
   "outputs": [
    {
     "data": {
      "text/plain": [
       "matrix([[361],\n",
       "        [362]])"
      ]
     },
     "execution_count": 6,
     "metadata": {},
     "output_type": "execute_result"
    }
   ],
   "source": [
    "A = np.matrix([[1,3],[2,1]]) #2*2\n",
    "B = np.matrix([[145],[72]]) #2*1\n",
    "\n",
    "A*B"
   ]
  },
  {
   "cell_type": "code",
   "execution_count": 7,
   "metadata": {},
   "outputs": [
    {
     "data": {
      "text/plain": [
       "361"
      ]
     },
     "execution_count": 7,
     "metadata": {},
     "output_type": "execute_result"
    }
   ],
   "source": [
    "1 * 145 + 3 * 72"
   ]
  },
  {
   "cell_type": "code",
   "execution_count": 8,
   "metadata": {},
   "outputs": [
    {
     "data": {
      "text/plain": [
       "362"
      ]
     },
     "execution_count": 8,
     "metadata": {},
     "output_type": "execute_result"
    }
   ],
   "source": [
    "2 * 145 + 1 * 72"
   ]
  },
  {
   "cell_type": "code",
   "execution_count": 9,
   "metadata": {},
   "outputs": [
    {
     "data": {
      "text/plain": [
       "matrix([[-1.,  3.],\n",
       "        [ 2., -5.]])"
      ]
     },
     "execution_count": 9,
     "metadata": {},
     "output_type": "execute_result"
    }
   ],
   "source": [
    "# 逆行列\n",
    "A = np.matrix([[5,3],[2,1]])\n",
    "B = np.linalg.inv(A)\n",
    "B"
   ]
  },
  {
   "cell_type": "code",
   "execution_count": 10,
   "metadata": {},
   "outputs": [
    {
     "data": {
      "text/plain": [
       "matrix([[1, 0],\n",
       "        [0, 1]])"
      ]
     },
     "execution_count": 10,
     "metadata": {},
     "output_type": "execute_result"
    }
   ],
   "source": [
    "(A * B).astype(int) "
   ]
  },
  {
   "cell_type": "code",
   "execution_count": 11,
   "metadata": {},
   "outputs": [
    {
     "data": {
      "text/plain": [
       "matrix([[ 3.],\n",
       "        [-2.]])"
      ]
     },
     "execution_count": 11,
     "metadata": {},
     "output_type": "execute_result"
    }
   ],
   "source": [
    "A = np.matrix([[5,3],[2,1]])\n",
    "inv_A = np.linalg.inv(A)\n",
    "B = np.matrix([[9],[4]])\n",
    "inv_A * B"
   ]
  },
  {
   "cell_type": "code",
   "execution_count": 12,
   "metadata": {},
   "outputs": [
    {
     "data": {
      "text/plain": [
       "matrix([[6],\n",
       "        [7]])"
      ]
     },
     "execution_count": 12,
     "metadata": {},
     "output_type": "execute_result"
    }
   ],
   "source": [
    "# ベクトルと行列の変換\n",
    "p = np.matrix([[3],[2]]) #点Pの座標\n",
    "A = np.matrix([[2,0],[1,2]]) #変換行列A\n",
    "A * p #A*p"
   ]
  },
  {
   "cell_type": "code",
   "execution_count": 22,
   "metadata": {},
   "outputs": [
    {
     "data": {
      "image/png": "[encoded data removed]",
      "text/plain": [
       "<Figure size 432x288 with 1 Axes>"
      ]
     },
     "metadata": {
      "needs_background": "light"
     },
     "output_type": "display_data"
    }
   ],
   "source": [
    "# 図形の対称移動\n",
    "\n",
    "# x軸に対して線対称\n",
    "p = np.matrix([[1,3,3,1],[1,1,2,1]])\n",
    "\n",
    "# 描画\n",
    "p = np.array(p)\n",
    "\n",
    "plt.plot(p[0,:],p[1,:])\n",
    "plt.plot('equal')\n",
    "plt.grid(color = '0.8')\n",
    "plt.show()"
   ]
  },
  {
   "cell_type": "code",
   "execution_count": 23,
   "metadata": {},
   "outputs": [
    {
     "name": "stdout",
     "output_type": "stream",
     "text": [
      "[[ 1  3  3  1]\n",
      " [-1 -1 -2 -1]]\n"
     ]
    },
    {
     "data": {
      "image/png": "[encoded data removed]",
      "text/plain": [
       "<Figure size 432x288 with 1 Axes>"
      ]
     },
     "metadata": {
      "needs_background": "light"
     },
     "output_type": "display_data"
    }
   ],
   "source": [
    "# x軸に対して線対称\n",
    "p = np.matrix([[1,3,3,1],[1,1,2,1]])\n",
    "A = np.matrix([[1,0],[0,-1]])\n",
    "p2 = A * p\n",
    "print(p2)\n",
    "\n",
    "# 描画\n",
    "p = np.array(p)\n",
    "p2 = np.array(p2)\n",
    "\n",
    "plt.plot(p[0,:],p[1,:])\n",
    "plt.plot(p2[0,:],p2[1,:])\n",
    "plt.plot('equal')\n",
    "plt.grid(color = '0.8')\n",
    "plt.show()"
   ]
  },
  {
   "cell_type": "code",
   "execution_count": 24,
   "metadata": {},
   "outputs": [
    {
     "name": "stdout",
     "output_type": "stream",
     "text": [
      "[[-1 -3 -3 -1]\n",
      " [ 1  1  2  1]]\n"
     ]
    },
    {
     "data": {
      "image/png": "[encoded data removed]",
      "text/plain": [
       "<Figure size 432x288 with 1 Axes>"
      ]
     },
     "metadata": {
      "needs_background": "light"
     },
     "output_type": "display_data"
    }
   ],
   "source": [
    "# y軸に対して線対称\n",
    "p = np.matrix([[1,3,3,1],[1,1,2,1]])\n",
    "A = np.matrix([[-1,0],[0,1]])\n",
    "p2 = A * p\n",
    "print(p2)\n",
    "\n",
    "# 描画\n",
    "p = np.array(p)\n",
    "p2 = np.array(p2)\n",
    "\n",
    "plt.plot(p[0,:],p[1,:])\n",
    "plt.plot(p2[0,:],p2[1,:])\n",
    "plt.plot('equal')\n",
    "plt.grid(color = '0.8')\n",
    "plt.show()"
   ]
  },
  {
   "cell_type": "code",
   "execution_count": 25,
   "metadata": {},
   "outputs": [
    {
     "name": "stdout",
     "output_type": "stream",
     "text": [
      "[[-1 -3 -3 -1]\n",
      " [-1 -1 -2 -1]]\n"
     ]
    },
    {
     "data": {
      "image/png": "[encoded data removed]",
      "text/plain": [
       "<Figure size 432x288 with 1 Axes>"
      ]
     },
     "metadata": {
      "needs_background": "light"
     },
     "output_type": "display_data"
    }
   ],
   "source": [
    "# 座標原点に対して点対称\n",
    "\n",
    "p = np.matrix([[1,3,3,1],[1,1,2,1]])\n",
    "A = np.matrix([[-1,0],[0,-1]])\n",
    "p2 = A * p\n",
    "print(p2)\n",
    "\n",
    "# 描画\n",
    "p = np.array(p)\n",
    "p2 = np.array(p2)\n",
    "\n",
    "plt.plot(p[0,:],p[1,:])\n",
    "plt.plot(p2[0,:],p2[1,:])\n",
    "plt.plot('equal')\n",
    "plt.grid(color = '0.8')\n",
    "plt.show()"
   ]
  },
  {
   "cell_type": "code",
   "execution_count": 26,
   "metadata": {},
   "outputs": [
    {
     "name": "stdout",
     "output_type": "stream",
     "text": [
      "[[1 1 2 1]\n",
      " [1 3 3 1]]\n"
     ]
    },
    {
     "data": {
      "image/png": "[encoded data removed]",
      "text/plain": [
       "<Figure size 432x288 with 1 Axes>"
      ]
     },
     "metadata": {
      "needs_background": "light"
     },
     "output_type": "display_data"
    }
   ],
   "source": [
    "# y = xに線対称\n",
    "\n",
    "p = np.matrix([[1,3,3,1],[1,1,2,1]])\n",
    "A = np.matrix([[0,1],[1,0]])\n",
    "p2 = A * p\n",
    "print(p2)\n",
    "\n",
    "# 描画\n",
    "p = np.array(p)\n",
    "p2 = np.array(p2)\n",
    "\n",
    "plt.plot(p[0,:],p[1,:])\n",
    "plt.plot(p2[0,:],p2[1,:])\n",
    "plt.plot('equal')\n",
    "plt.grid(color = '0.8')\n",
    "plt.show()"
   ]
  },
  {
   "cell_type": "code",
   "execution_count": 27,
   "metadata": {},
   "outputs": [
    {
     "name": "stdout",
     "output_type": "stream",
     "text": [
      "[[3 9 9 3]\n",
      " [3 3 6 3]]\n"
     ]
    },
    {
     "data": {
      "image/png": "[encoded data removed]",
      "text/plain": [
       "<Figure size 432x288 with 1 Axes>"
      ]
     },
     "metadata": {
      "needs_background": "light"
     },
     "output_type": "display_data"
    }
   ],
   "source": [
    "# 図形の拡大\n",
    "\n",
    "p = np.matrix([[1,3,3,1],[1,1,2,1]])\n",
    "A = np.matrix([[3,0],[0,3]])\n",
    "p2 = A * p\n",
    "print(p2)\n",
    "\n",
    "# 描画\n",
    "p = np.array(p)\n",
    "p2 = np.array(p2)\n",
    "\n",
    "plt.plot(p[0,:],p[1,:])\n",
    "plt.plot(p2[0,:],p2[1,:])\n",
    "plt.plot('equal')\n",
    "plt.grid(color = '0.8')\n",
    "plt.show()"
   ]
  },
  {
   "cell_type": "code",
   "execution_count": 28,
   "metadata": {},
   "outputs": [
    {
     "name": "stdout",
     "output_type": "stream",
     "text": [
      "[[0.8 2.4 2.4 0.8]\n",
      " [0.8 0.8 1.6 0.8]]\n"
     ]
    },
    {
     "data": {
      "image/png": "[encoded data removed]",
      "text/plain": [
       "<Figure size 432x288 with 1 Axes>"
      ]
     },
     "metadata": {
      "needs_background": "light"
     },
     "output_type": "display_data"
    }
   ],
   "source": [
    "# 座標原点に対して点対称\n",
    "\n",
    "p = np.matrix([[1,3,3,1],[1,1,2,1]])\n",
    "A = np.matrix([[0.8,0],[0,0.8]])\n",
    "p2 = A * p\n",
    "print(p2)\n",
    "\n",
    "# 描画\n",
    "p = np.array(p)\n",
    "p2 = np.array(p2)\n",
    "\n",
    "plt.plot(p[0,:],p[1,:])\n",
    "plt.plot(p2[0,:],p2[1,:])\n",
    "plt.plot('equal')\n",
    "plt.grid(color = '0.8')\n",
    "plt.show()"
   ]
  },
  {
   "cell_type": "code",
   "execution_count": 33,
   "metadata": {},
   "outputs": [
    {
     "name": "stdout",
     "output_type": "stream",
     "text": [
      "[[4.44089210e-16 1.41421356e+00 2.82842712e+00 1.41421356e+00\n",
      "  4.44089210e-16]\n",
      " [4.24264069e+00 2.82842712e+00 4.24264069e+00 5.65685425e+00\n",
      "  4.24264069e+00]]\n"
     ]
    },
    {
     "data": {
      "image/png": "[encoded data removed]",
      "text/plain": [
       "<Figure size 432x288 with 1 Axes>"
      ]
     },
     "metadata": {
      "needs_background": "light"
     },
     "output_type": "display_data"
    }
   ],
   "source": [
    "# 図形の回転\n",
    "\n",
    "p = np.matrix([[3,3,5,5,3],[3,1,1,3,3]])\n",
    "# 変換行列\n",
    "th = np.radians(45)\n",
    "A = np.matrix([[np.cos(th) , np.sin(-th)],[np.sin(th) , np.cos(th)]])\n",
    "\n",
    "p2 = A * p\n",
    "print(p2)\n",
    "\n",
    "# 描画\n",
    "p = np.array(p)\n",
    "p2 = np.array(p2)\n",
    "\n",
    "plt.plot(p[0,:],p[1,:])\n",
    "plt.plot(p2[0,:],p2[1,:])\n",
    "plt.plot('equal')\n",
    "plt.grid(color = '0.8')\n",
    "plt.show()"
   ]
  },
  {
   "cell_type": "code",
   "execution_count": 35,
   "metadata": {},
   "outputs": [
    {
     "name": "stdout",
     "output_type": "stream",
     "text": [
      "[[3 5 5 3]\n",
      " [4 4 5 4]\n",
      " [1 1 1 1]]\n"
     ]
    },
    {
     "data": {
      "image/png": "[encoded data removed]",
      "text/plain": [
       "<Figure size 432x288 with 1 Axes>"
      ]
     },
     "metadata": {
      "needs_background": "light"
     },
     "output_type": "display_data"
    }
   ],
   "source": [
    "# 平行移動\n",
    "\n",
    "# 同時座標\n",
    "p = np.matrix([[1,3,3,1],[1,1,2,1],[1,1,1,1]])\n",
    "\n",
    "# 変換行列(平行移動)\n",
    "A =  np.matrix([[1,0,2],[0,1,3],[0,0,1]])\n",
    "\n",
    "p2 = A * p\n",
    "print(p2)\n",
    "\n",
    "# 描画\n",
    "p = np.array(p)\n",
    "p2 = np.array(p2)\n",
    "\n",
    "plt.plot(p[0,:],p[1,:])\n",
    "plt.plot(p2[0,:],p2[1,:])\n",
    "plt.plot('equal')\n",
    "plt.grid(color = '0.8')\n",
    "plt.show()"
   ]
  },
  {
   "cell_type": "code",
   "execution_count": 39,
   "metadata": {},
   "outputs": [
    {
     "name": "stdout",
     "output_type": "stream",
     "text": [
      "[[3 5 5 3]\n",
      " [4 4 5 4]\n",
      " [1 1 1 1]]\n",
      "[[-4. -4. -5. -4.]\n",
      " [ 3.  5.  5.  3.]\n",
      " [ 1.  1.  1.  1.]]\n",
      "[[1.00000000e+00 1.00000000e+00 2.22044605e-16 1.00000000e+00]\n",
      " [4.00000000e+00 6.00000000e+00 6.00000000e+00 4.00000000e+00]\n",
      " [1.00000000e+00 1.00000000e+00 1.00000000e+00 1.00000000e+00]]\n"
     ]
    },
    {
     "data": {
      "image/png": "[encoded data removed]",
      "text/plain": [
       "<Figure size 432x288 with 1 Axes>"
      ]
     },
     "metadata": {
      "needs_background": "light"
     },
     "output_type": "display_data"
    }
   ],
   "source": [
    "# 一次変換の組み合わせ（平行移動から回転移動）\n",
    "\n",
    "# 同時座標\n",
    "p = np.matrix([[1,3,3,1],[1,1,2,1],[1,1,1,1]])\n",
    "\n",
    "# 変換行列(平行移動)\n",
    "A =  np.matrix([[1,0,2],[0,1,3],[0,0,1]])\n",
    "\n",
    "p2 = A *p\n",
    "print(p2)\n",
    "\n",
    "# 変換行列(回転移動)\n",
    "th = np.radians(90)\n",
    "B = np.matrix([[np.cos(th) , np.sin(-th), 0],[np.sin(th) , np.cos(th), 0],[0,0,1]])\n",
    "\n",
    "p3 = B * A * p\n",
    "print(p３)\n",
    "\n",
    "p4 = A* B * p\n",
    "print(p4)\n",
    "\n",
    "# 描画\n",
    "p = np.array(p)\n",
    "p2 = np.array(p2)\n",
    "p3 = np.array(p3)\n",
    "p4 = np.array(p4)\n",
    "\n",
    "\n",
    "plt.plot(p[0,:],p[1,:])\n",
    "plt.plot(p2[0,:],p2[1,:])\n",
    "plt.plot(p3[0,:],p3[1,:])\n",
    "plt.plot(p4[0,:],p4[1,:])\n",
    "\n",
    "\n",
    "plt.plot('equal')\n",
    "plt.grid(color = '0.8')\n",
    "plt.show()"
   ]
  },
  {
   "cell_type": "code",
   "execution_count": null,
   "metadata": {},
   "outputs": [],
   "source": []
  }
 ],
 "metadata": {
  "kernelspec": {
   "display_name": "Python 3",
   "language": "python",
   "name": "python3"
  },
  "language_info": {
   "codemirror_mode": {
    "name": "ipython",
    "version": 3
   },
   "file_extension": ".py",
   "mimetype": "text/x-python",
   "name": "python",
   "nbconvert_exporter": "python",
   "pygments_lexer": "ipython3",
   "version": "3.7.4"
  }
 },
 "nbformat": 4,
 "nbformat_minor": 2
}
